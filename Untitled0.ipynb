{
  "nbformat": 4,
  "nbformat_minor": 0,
  "metadata": {
    "colab": {
      "provenance": [],
      "authorship_tag": "ABX9TyPDneJrkK7VPlgdoLP40d7v",
      "include_colab_link": true
    },
    "kernelspec": {
      "name": "python3",
      "display_name": "Python 3"
    },
    "language_info": {
      "name": "python"
    }
  },
  "cells": [
    {
      "cell_type": "markdown",
      "metadata": {
        "id": "view-in-github",
        "colab_type": "text"
      },
      "source": [
        "<a href=\"https://colab.research.google.com/github/Juan24rangel/Grafica_funciones/blob/main/Untitled0.ipynb\" target=\"_parent\"><img src=\"https://colab.research.google.com/assets/colab-badge.svg\" alt=\"Open In Colab\"/></a>"
      ]
    },
    {
      "cell_type": "code",
      "execution_count": 34,
      "metadata": {
        "id": "s4SetLjSB-zw"
      },
      "outputs": [],
      "source": [
        "# importamos la libreria matplotlib y numpy y le asignamos un alias\n",
        "import numpy as np\n",
        "import math as ma \n",
        "import matplotlib.pyplot as plt\n",
        "def funcion_lineal(m,x,b):\n",
        "  return m*x+b\n",
        "\n",
        "def funcion_cuadratica(a,x,b,c):\n",
        "  return a*x**2 + b*x + c\n",
        "\n",
        "def funcion_cuba(a,x,b,c,d):\n",
        "  return a*x**3 + b*x**2 + c*x + d\n",
        "\n",
        "def funcion_expo(a,x):\n",
        "  return a**x\n",
        "\n",
        "def fucion_log(a,x):\n",
        "  return"
      ]
    },
    {
      "cell_type": "code",
      "source": [
        "N=100\n",
        "print(\"-----------------------\")\n",
        "print(\"-----FUNCION-LINEAL----\")\n",
        "print(\"-----------------------\")\n",
        "\n",
        "m=int(input(\"Digite el valor de la pendiente: \"))\n",
        "b= int(input(\"Digite la ordenada al origen: \"))\n",
        "\n",
        "x=np.linspace(-10,10,num=N)\n",
        "y= funcion_lineal(m,x,b)\n",
        "\n",
        "plt.plot(x,y, color=\"r\")\n",
        "plt.xlabel(\"x\")\n",
        "plt.ylabel(\"y\")\n",
        "plt.title(\"Función lineal: y = mx + b\")\n",
        "plt.grid()\n",
        "plt.axhline(y=0, color=\"b\")\n",
        "plt.axvline(x=0, color=\"b\")\n",
        "plt.show()"
      ],
      "metadata": {
        "id": "6qhfJm6KCZQY"
      },
      "execution_count": null,
      "outputs": []
    },
    {
      "cell_type": "code",
      "source": [
        "N=100\n",
        "print(\"---------------------------------------------\")\n",
        "print(\"--------------TABLA-DE-FUNCIONES-------------\")\n",
        "print(\"---------------------------------------------\")\n",
        "\n",
        "print(\"OPCIONES: \\n\")\n",
        "print(\"1. Función lineal.\")\n",
        "print(\"2. Función cuadrada.\")\n",
        "print(\"3. Función cubica.\")\n",
        "print(\"4. Función exponensial.\")\n",
        "print(\"5. Función logaritmica.\")\n",
        "print(\"6. Función Trigonometrica.\")\n",
        "print(\"7. Función valor absoluto.\")\n",
        "print(\"8. Función racional.\")\n",
        "\n",
        "opcion= int(input(\"\\nDame tu opción: \"))\n",
        "\n",
        "if opcion==1:\n",
        "  m=int(input(\"\\nDigite el valor de la pendiente: \"))\n",
        "  b= int(input(\"Digite la ordenada al origen: \"))\n",
        "  \n",
        "  x=np.linspace(-10,10,num=N)\n",
        "  y= funcion_lineal(m,x,b)\n",
        "  plt.plot(x,y, color=\"r\")\n",
        "  plt.xlabel(\"x\")\n",
        "  plt.ylabel(\"y\")\n",
        "  plt.title(\"Función lineal: y = mx + b\")\n",
        "  plt.grid()\n",
        "  plt.axhline(y=0, color=\"b\")\n",
        "  plt.axvline(x=0, color=\"b\")\n",
        "  plt.show()\n",
        "\n",
        "elif opcion==2:\n",
        "  a=int(input(\"\\nDigite el primer valor de la función: \"))\n",
        "  b= int(input(\"Digite el segundo valor de la función: \"))\n",
        "  c= int(input(\"Digite el tercer valor de la función: \"))\n",
        "\n",
        "  x=np.linspace(-10,10,num=N)\n",
        "  y= funcion_cuadratica(a,x,c,b)\n",
        "  plt.plot(x,y, color=\"r\")\n",
        "  plt.xlabel(\"x\")\n",
        "  plt.ylabel(\"y\")\n",
        "  plt.title(\"Función cuadratica: y =ax**2 + bx + c \")\n",
        "  plt.grid()\n",
        "  plt.axhline(y=0, color=\"b\")\n",
        "  plt.axvline(x=0, color=\"b\")\n",
        "  plt.show()\n",
        "\n",
        "elif opcion==3:\n",
        "  a=int(input(\"\\nDigite el primer valor de la función: \"))\n",
        "  b= int(input(\"Digite el segundo valor de la función: \"))\n",
        "  c= int(input(\"Digite el tercer valor de la función: \"))\n",
        "  d= int(input(\"Digite el cuarto valor de la función: \"))\n",
        "\n",
        "  x=np.linspace(-10,10,num=N)\n",
        "  y = funcion_cuba(a,x,b,c,d)\n",
        "  plt.plot(x,y, color=\"r\")\n",
        "  plt.xlabel(\"x\")\n",
        "  plt.ylabel(\"y\")\n",
        "  plt.title(\"Función cubica: y =ax^3 + bx^2 + cx + d \")\n",
        "  plt.grid()\n",
        "  plt.axhline(y=0, color=\"b\")\n",
        "  plt.axvline(x=0, color=\"b\")\n",
        "  plt.show()\n",
        "\n",
        "elif opcion==4:\n",
        "  a=int(input(\"\\nDigite el valor de la base: \"))\n",
        "  x=np.linspace(-10,10,num=N)\n",
        "  y = funcion_expo(a,x)\n",
        "  plt.plot(x,y, color=\"r\")\n",
        "  plt.xlabel(\"x\")\n",
        "  plt.ylabel(\"y\")\n",
        "  plt.title(\"Función exponencial: y = a^x \")\n",
        "  plt.grid()\n",
        "  plt.axhline(y=0, color=\"b\")\n",
        "  plt.axvline(x=0, color=\"b\")\n",
        "  plt.show()\n",
        "\n",
        "elif opcion==5:\n",
        "   a=int(input(\"\\nDigite el valor de la base: \"))\n",
        "   x=np.linspace(-10,10,num=N)\n",
        "   y = funcion_expo(a,x)\n",
        "   plt.plot(x,y, color=\"r\")\n",
        "   plt.xlabel(\"x\")\n",
        "   plt.ylabel(\"y\")\n",
        "   plt.title(\"Función exponencial: y = a^x \")\n",
        "   plt.grid()\n",
        "   plt.axhline(y=0, color=\"b\")\n",
        "   plt.axvline(x=0, color=\"b\")\n",
        "   plt.show()"
      ],
      "metadata": {
        "id": "Bg7gT5kdNG23"
      },
      "execution_count": null,
      "outputs": []
    }
  ]
}