{
  "nbformat": 4,
  "nbformat_minor": 0,
  "metadata": {
    "colab": {
      "provenance": [],
      "authorship_tag": "ABX9TyNZ8XhUjfb1NnfLNknXi4Q7",
      "include_colab_link": true
    },
    "kernelspec": {
      "name": "python3",
      "display_name": "Python 3"
    },
    "language_info": {
      "name": "python"
    }
  },
  "cells": [
    {
      "cell_type": "markdown",
      "metadata": {
        "id": "view-in-github",
        "colab_type": "text"
      },
      "source": [
        "<a href=\"https://colab.research.google.com/github/Juan24rangel/Grafica_funciones/blob/main/Untitled0.ipynb\" target=\"_parent\"><img src=\"https://colab.research.google.com/assets/colab-badge.svg\" alt=\"Open In Colab\"/></a>"
      ]
    },
    {
      "cell_type": "code",
      "execution_count": null,
      "metadata": {
        "id": "s4SetLjSB-zw"
      },
      "outputs": [],
      "source": [
        "# importamos la libreria matplotlib y numpy y le asignamos un alias\n",
        "import numpy as np\n",
        "import matplotlib.pyplot as plt\n",
        "def funcion_lineal(m,x,b):\n",
        "  return m*x+b"
      ]
    },
    {
      "cell_type": "code",
      "source": [
        "N=100\n",
        "print(\"-----------------------\")\n",
        "print(\"-----FUNCION-LINEAL----\")\n",
        "print(\"-----------------------\")\n",
        "\n",
        "m=int(input(\"Digite el valor de la pendiente: \"))\n",
        "b= int(input(\"Digite la ordenada al origen: \"))\n",
        "\n",
        "x=np.linspace(-10,10,num=N)\n",
        "y= funcion_lineal(m,x,b)\n",
        "\n",
        "plt.plot(x,y, color=\"r\")\n",
        "plt.xlabel(\"x\")\n",
        "plt.ylabel(\"y\")\n",
        "plt.title(\"Función lineal: y = mx + b\")\n",
        "plt.grid()\n",
        "plt.axhline(y=0, color=\"b\")\n",
        "plt.axvline(x=0, color=\"b\")\n",
        "plt.show()"
      ],
      "metadata": {
        "colab": {
          "base_uri": "https://localhost:8080/",
          "height": 382
        },
        "id": "6qhfJm6KCZQY",
        "outputId": "9b1df6f8-4173-43f3-f689-211a6512bb55"
      },
      "execution_count": null,
      "outputs": [
        {
          "name": "stdout",
          "output_type": "stream",
          "text": [
            "-----------------------\n",
            "-----FUNCION-LINEAL----\n",
            "-----------------------\n",
            "Digite el valor de la pendiente: 5\n",
            "Digite la ordenada al origen: 5\n"
          ]
        },
        {
          "output_type": "display_data",
          "data": {
            "text/plain": [
              "<Figure size 432x288 with 1 Axes>"
            ],
            "image/png": "[encoded data removed]"
          },
          "metadata": {
            "needs_background": "light"
          }
        }
      ]
    }
  ]
}